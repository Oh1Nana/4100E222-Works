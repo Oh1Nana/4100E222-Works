{
  "nbformat": 4,
  "nbformat_minor": 0,
  "metadata": {
    "colab": {
      "name": "4100E222python3.ipynb",
      "provenance": [],
      "authorship_tag": "ABX9TyPPMuvxriUi0ObgkUc/+hJh",
      "include_colab_link": true
    },
    "kernelspec": {
      "name": "python3",
      "display_name": "Python 3"
    },
    "language_info": {
      "name": "python"
    }
  },
  "cells": [
    {
      "cell_type": "markdown",
      "metadata": {
        "id": "view-in-github",
        "colab_type": "text"
      },
      "source": [
        "<a href=\"https://colab.research.google.com/github/Oh1Nana/4100E222-Works/blob/Montenegro-Works/4100E222python3.ipynb\" target=\"_parent\"><img src=\"https://colab.research.google.com/assets/colab-badge.svg\" alt=\"Open In Colab\"/></a>"
      ]
    },
    {
      "cell_type": "code",
      "metadata": {
        "colab": {
          "base_uri": "https://localhost:8080/"
        },
        "id": "Aqukjh1SM_qC",
        "outputId": "653342a6-45f2-4f52-a9c6-e204a9850010"
      },
      "source": [
        "def sum(i1, i2):\n",
        "    result = 0\n",
        "    for i in range(i1, i2):\n",
        "        result += i\n",
        "    return result\n",
        "\n",
        "def main():\n",
        "    print(\"Sum from 1 to 10 is\", sum(1, 11)) \n",
        "    print(\"Sum from 20 to 37 is\", sum(20, 38))\n",
        "    print(\"Sum from 35 to 49 is\", sum(35, 50))\n",
        "\n",
        "main() # Call the main function"
      ],
      "execution_count": 1,
      "outputs": [
        {
          "output_type": "stream",
          "name": "stdout",
          "text": [
            "Sum from 1 to 10 is 55\n",
            "Sum from 20 to 37 is 513\n",
            "Sum from 35 to 49 is 630\n"
          ]
        }
      ]
    },
    {
      "cell_type": "markdown",
      "metadata": {
        "id": "bUXNkGVSOUEo"
      },
      "source": [
        "#Simple Test\n",
        "Please write a function that can do \n",
        "sum(i1, i2, i3)\n",
        "\n",
        "==> range(i1, i2, i3)\n",
        "\n",
        "def main():\n",
        "    print(\"Sum from 1 to 10 is\", sum(1, 11,2)) \n",
        "    print(\"Sum from 20 to 37 is\", sum(20, 38,3))\n",
        "    print(\"Sum from 35 to 49 is\", sum(35, 50,5))\n",
        "\n",
        "main() # Call the main function\n",
        "\n",
        "sum(1   11,2)= 1+3+5+7+9\n",
        "\n",
        "sum(20  38,3) =20+23+26+29\n",
        "\n",
        "sum(35  50,5)= 35+40+45+50"
      ]
    },
    {
      "cell_type": "code",
      "metadata": {
        "colab": {
          "base_uri": "https://localhost:8080/"
        },
        "id": "Qo4uo7OcPkQ3",
        "outputId": "5fb98462-5067-41c8-b1a7-045bf41b225b"
      },
      "source": [
        "def sum(i1,i2,i3):\n",
        "    result = 0\n",
        "    for i in range(i1,i2,i3):\n",
        "        result += i\n",
        "    return result\n",
        "\n",
        "def main():\n",
        "    print(\"Sum from 1 to 10 is\", sum(1, 11,2)) \n",
        "    print(\"Sum from 20 to 37 is\", sum(20, 38,3))\n",
        "    print(\"Sum from 35 to 49 is\", sum(35, 50,5))\n",
        "\n",
        "main() # Call the main function"
      ],
      "execution_count": 10,
      "outputs": [
        {
          "output_type": "stream",
          "name": "stdout",
          "text": [
            "Sum from 1 to 10 is 25\n",
            "Sum from 20 to 37 is 165\n",
            "Sum from 35 to 49 is 120\n"
          ]
        }
      ]
    },
    {
      "cell_type": "code",
      "metadata": {
        "colab": {
          "base_uri": "https://localhost:8080/"
        },
        "id": "eWJMUe5DScM_",
        "outputId": "eb5db75b-b819-42c3-c27f-76de46799cc7"
      },
      "source": [
        "def sum(i1,i2,i3):\n",
        "    result = 0\n",
        "    for i in range(i1,i2,i3):\n",
        "        result += i\n",
        "    return result\n",
        "\n",
        "def main():\n",
        "    print(\"Sum1 \", sum(1, 11,2)) \n",
        "    print(\"Sum2 \", sum(20, 38,3))\n",
        "    print(\"Sum3 \", sum(35, 50,5))\n",
        "\n",
        "main() # Call the main function"
      ],
      "execution_count": 13,
      "outputs": [
        {
          "output_type": "stream",
          "name": "stdout",
          "text": [
            "Sum1  25\n",
            "Sum2  165\n",
            "Sum3  120\n"
          ]
        }
      ]
    },
    {
      "cell_type": "code",
      "metadata": {
        "colab": {
          "base_uri": "https://localhost:8080/"
        },
        "id": "xk-gXzbqREQo",
        "outputId": "e1bac5f8-3005-46e2-9bf6-ca5165d35d3f"
      },
      "source": [
        "def swap(m,c):\n",
        "  m,c = c,m\n",
        "  return (m,c)\n",
        "\n",
        "if __name__ == '__main__':\n",
        "    m = 14\n",
        "    c = 19\n",
        "    print('m = %d,c = %d' % (m,c))\n",
        "    x,y = swap(x,y)\n",
        "    print('m = %d,c = %d' % (m,c))"
      ],
      "execution_count": 14,
      "outputs": [
        {
          "output_type": "stream",
          "name": "stdout",
          "text": [
            "m = 14,c = 19\n",
            "m = 14,c = 19\n"
          ]
        }
      ]
    }
  ]
}