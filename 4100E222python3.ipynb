{
  "nbformat": 4,
  "nbformat_minor": 0,
  "metadata": {
    "colab": {
      "name": "4100E222python3.ipynb",
      "provenance": [],
      "authorship_tag": "ABX9TyP9aOdpgfitwdgqvvNUKkaP",
      "include_colab_link": true
    },
    "kernelspec": {
      "name": "python3",
      "display_name": "Python 3"
    },
    "language_info": {
      "name": "python"
    }
  },
  "cells": [
    {
      "cell_type": "markdown",
      "metadata": {
        "id": "view-in-github",
        "colab_type": "text"
      },
      "source": [
        "<a href=\"https://colab.research.google.com/github/Oh1Nana/4100E222-Works/blob/Montenegro-Works/4100E222python3.ipynb\" target=\"_parent\"><img src=\"https://colab.research.google.com/assets/colab-badge.svg\" alt=\"Open In Colab\"/></a>"
      ]
    },
    {
      "cell_type": "code",
      "metadata": {
        "colab": {
          "base_uri": "https://localhost:8080/"
        },
        "id": "Aqukjh1SM_qC",
        "outputId": "653342a6-45f2-4f52-a9c6-e204a9850010"
      },
      "source": [
        "def sum(i1, i2):\n",
        "    result = 0\n",
        "    for i in range(i1, i2):\n",
        "        result += i\n",
        "    return result\n",
        "\n",
        "def main():\n",
        "    print(\"Sum from 1 to 10 is\", sum(1, 11)) \n",
        "    print(\"Sum from 20 to 37 is\", sum(20, 38))\n",
        "    print(\"Sum from 35 to 49 is\", sum(35, 50))\n",
        "\n",
        "main() # Call the main function"
      ],
      "execution_count": null,
      "outputs": [
        {
          "output_type": "stream",
          "name": "stdout",
          "text": [
            "Sum from 1 to 10 is 55\n",
            "Sum from 20 to 37 is 513\n",
            "Sum from 35 to 49 is 630\n"
          ]
        }
      ]
    },
    {
      "cell_type": "markdown",
      "metadata": {
        "id": "bUXNkGVSOUEo"
      },
      "source": [
        "#Simple Test\n",
        "Please write a function that can do \n",
        "sum(i1, i2, i3)\n",
        "\n",
        "==> range(i1, i2, i3)\n",
        "\n",
        "def main():\n",
        "    print(\"Sum from 1 to 10 is\", sum(1, 11,2)) \n",
        "    print(\"Sum from 20 to 37 is\", sum(20, 38,3))\n",
        "    print(\"Sum from 35 to 49 is\", sum(35, 50,5))\n",
        "\n",
        "main() # Call the main function\n",
        "\n",
        "sum(1   11,2)= 1+3+5+7+9\n",
        "\n",
        "sum(20  38,3) =20+23+26+29\n",
        "\n",
        "sum(35  50,5)= 35+40+45+50"
      ]
    },
    {
      "cell_type": "code",
      "metadata": {
        "colab": {
          "base_uri": "https://localhost:8080/"
        },
        "id": "Qo4uo7OcPkQ3",
        "outputId": "5fb98462-5067-41c8-b1a7-045bf41b225b"
      },
      "source": [
        "def sum(i1,i2,i3):\n",
        "    result = 0\n",
        "    for i in range(i1,i2,i3):\n",
        "        result += i\n",
        "    return result\n",
        "\n",
        "def main():\n",
        "    print(\"Sum from 1 to 10 is\", sum(1, 11,2)) \n",
        "    print(\"Sum from 20 to 37 is\", sum(20, 38,3))\n",
        "    print(\"Sum from 35 to 49 is\", sum(35, 50,5))\n",
        "\n",
        "main() # Call the main function"
      ],
      "execution_count": null,
      "outputs": [
        {
          "output_type": "stream",
          "name": "stdout",
          "text": [
            "Sum from 1 to 10 is 25\n",
            "Sum from 20 to 37 is 165\n",
            "Sum from 35 to 49 is 120\n"
          ]
        }
      ]
    },
    {
      "cell_type": "code",
      "metadata": {
        "colab": {
          "base_uri": "https://localhost:8080/"
        },
        "id": "eWJMUe5DScM_",
        "outputId": "eb5db75b-b819-42c3-c27f-76de46799cc7"
      },
      "source": [
        "def sum(i1,i2,i3):\n",
        "    result = 0\n",
        "    for i in range(i1,i2,i3):\n",
        "        result += i\n",
        "    return result\n",
        "\n",
        "def main():\n",
        "    print(\"Sum1 \", sum(1, 11,2)) \n",
        "    print(\"Sum2 \", sum(20, 38,3))\n",
        "    print(\"Sum3 \", sum(35, 50,5))\n",
        "\n",
        "main() # Call the main function"
      ],
      "execution_count": null,
      "outputs": [
        {
          "output_type": "stream",
          "name": "stdout",
          "text": [
            "Sum1  25\n",
            "Sum2  165\n",
            "Sum3  120\n"
          ]
        }
      ]
    },
    {
      "cell_type": "code",
      "metadata": {
        "colab": {
          "base_uri": "https://localhost:8080/"
        },
        "id": "rmtvxe5mTsZO",
        "outputId": "adda9f6e-537d-4d2a-966a-7d9b499ff6bc"
      },
      "source": [
        "def swap(m,c):\n",
        "  m,c = c,m\n",
        "  return (m,c)\n",
        "\n",
        "if __name__ == '__main__':\n",
        "    m = 14\n",
        "    c = 19\n",
        "    print('m = %d,c = %d' % (m,c))\n",
        "    m,c = swap(m,c)\n",
        "    print('m = %d,c = %d' % (m,c))"
      ],
      "execution_count": null,
      "outputs": [
        {
          "output_type": "stream",
          "name": "stdout",
          "text": [
            "m = 14,c = 19\n",
            "m = 19,c = 14\n"
          ]
        }
      ]
    },
    {
      "cell_type": "code",
      "metadata": {
        "colab": {
          "base_uri": "https://localhost:8080/"
        },
        "id": "Twj8kfJGUk0P",
        "outputId": "3d902a20-9296-4563-8bd8-bbf58c2712bc"
      },
      "source": [
        "def sort(number1, number2, number3):\n",
        "    if (number1 < number2) and (number1 < number3):\n",
        "      if number2 < number3:\n",
        "        return number1, number2,number3\n",
        "      else:\n",
        "        return number1, number3,number2\n",
        "    if (number2 < number1) and (number2 < number3):\n",
        "      if number1 < number3:\n",
        "        return number2, number1,number3\n",
        "      else:\n",
        "        return number2, number3,number1    \n",
        "    if (number3 < number1) and (number3 < number2):\n",
        "      if number1 < number2:\n",
        "        return number3, number1,number2\n",
        "      else:\n",
        "        return number3, number2,number1 \n",
        "\n",
        "num1, num2, num3  = sort(19,21,8)\n",
        "\n",
        "print(\"num1 is\", num1)\n",
        "print(\"num2 is\", num2)\n",
        "print(\"num2 is\", num3)"
      ],
      "execution_count": 29,
      "outputs": [
        {
          "output_type": "stream",
          "name": "stdout",
          "text": [
            "num1 is 8\n",
            "num2 is 19\n",
            "num2 is 21\n"
          ]
        }
      ]
    },
    {
      "cell_type": "code",
      "metadata": {
        "id": "5JIWeyw2geo7"
      },
      "source": [
        "#!/usr/bin/python \n",
        "# -*- coding: UTF-8 -*- \n",
        "\n",
        "def printArea(width = 10, height = 13):\n",
        "    area = width * height\n",
        "    print(\"width:\", width, \"\\theight:\", height, \"\\tarea:\", area)"
      ],
      "execution_count": 42,
      "outputs": []
    },
    {
      "cell_type": "markdown",
      "metadata": {
        "id": "jXe4XRdRepaz"
      },
      "source": [
        "#Default arguments"
      ]
    },
    {
      "cell_type": "code",
      "metadata": {
        "colab": {
          "base_uri": "https://localhost:8080/"
        },
        "id": "xjv4QMV2emYa",
        "outputId": "6e198673-1017-4f4b-bbc6-0d8a0a434779"
      },
      "source": [
        "printArea()"
      ],
      "execution_count": 43,
      "outputs": [
        {
          "output_type": "stream",
          "name": "stdout",
          "text": [
            "width: 10 \theight: 13 \tarea: 130\n"
          ]
        }
      ]
    },
    {
      "cell_type": "markdown",
      "metadata": {
        "id": "TnOBm7YSeteR"
      },
      "source": [
        "#Keyword arguments"
      ]
    },
    {
      "cell_type": "code",
      "metadata": {
        "colab": {
          "base_uri": "https://localhost:8080/"
        },
        "id": "ErEzZJxVew98",
        "outputId": "49fc1cad-0542-4f86-9a64-3c04d8828c50"
      },
      "source": [
        "printArea(width = 10, height = 8)"
      ],
      "execution_count": 46,
      "outputs": [
        {
          "output_type": "stream",
          "name": "stdout",
          "text": [
            "width: 10 \theight: 8 \tarea: 80\n"
          ]
        }
      ]
    },
    {
      "cell_type": "code",
      "metadata": {
        "colab": {
          "base_uri": "https://localhost:8080/"
        },
        "id": "clMpatthgwfM",
        "outputId": "42f24f7f-a387-4a9f-f923-f32c3ca321d4"
      },
      "source": [
        "printArea(height = 8, width = 10)"
      ],
      "execution_count": 47,
      "outputs": [
        {
          "output_type": "stream",
          "name": "stdout",
          "text": [
            "width: 10 \theight: 8 \tarea: 80\n"
          ]
        }
      ]
    },
    {
      "cell_type": "markdown",
      "metadata": {
        "id": "KCxUsJpcexdq"
      },
      "source": [
        "#Positional arguments"
      ]
    },
    {
      "cell_type": "code",
      "metadata": {
        "colab": {
          "base_uri": "https://localhost:8080/"
        },
        "id": "JdpQRQ7Je1GS",
        "outputId": "ac844537-c9bf-4920-ba39-2eb45117ccfe"
      },
      "source": [
        "printArea(10,8)"
      ],
      "execution_count": 48,
      "outputs": [
        {
          "output_type": "stream",
          "name": "stdout",
          "text": [
            "width: 10 \theight: 8 \tarea: 80\n"
          ]
        }
      ]
    },
    {
      "cell_type": "code",
      "metadata": {
        "colab": {
          "base_uri": "https://localhost:8080/"
        },
        "id": "jziom-0-g4mz",
        "outputId": "b048a554-85b6-4685-8f77-0ebc9403d1a3"
      },
      "source": [
        "printArea(8,10)"
      ],
      "execution_count": 49,
      "outputs": [
        {
          "output_type": "stream",
          "name": "stdout",
          "text": [
            "width: 8 \theight: 10 \tarea: 80\n"
          ]
        }
      ]
    }
  ]
}