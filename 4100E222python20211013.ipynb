{
  "nbformat": 4,
  "nbformat_minor": 0,
  "metadata": {
    "colab": {
      "name": "python20211013.ipynb",
      "provenance": [],
      "authorship_tag": "ABX9TyOqkFSZCeMMQEuIDXj1wYUe",
      "include_colab_link": true
    },
    "kernelspec": {
      "name": "python3",
      "display_name": "Python 3"
    },
    "language_info": {
      "name": "python"
    }
  },
  "cells": [
    {
      "cell_type": "markdown",
      "metadata": {
        "id": "view-in-github",
        "colab_type": "text"
      },
      "source": [
        "<a href=\"https://colab.research.google.com/github/Oh1Nana/4100E222-Works/blob/Montenegro-Works/4100E222python20211013.ipynb\" target=\"_parent\"><img src=\"https://colab.research.google.com/assets/colab-badge.svg\" alt=\"Open In Colab\"/></a>"
      ]
    },
    {
      "cell_type": "markdown",
      "metadata": {
        "id": "UnKEVz0HMT7D"
      },
      "source": [
        "#Python Condition and If Statements\n",
        "20211013\n"
      ]
    },
    {
      "cell_type": "code",
      "metadata": {
        "colab": {
          "base_uri": "https://localhost:8080/"
        },
        "id": "7a679WXbMcDt",
        "outputId": "4fcc16bc-3ecd-43c8-a49f-cdc65220fd73"
      },
      "source": [
        "a = 47\n",
        "b = 52\n",
        "if b > a:\n",
        "  print(\"b is greater than a\")"
      ],
      "execution_count": 2,
      "outputs": [
        {
          "output_type": "stream",
          "name": "stdout",
          "text": [
            "b is greater than a\n"
          ]
        }
      ]
    },
    {
      "cell_type": "markdown",
      "metadata": {
        "id": "RDYTF6WZNqgt"
      },
      "source": [
        "#Indentation"
      ]
    },
    {
      "cell_type": "code",
      "metadata": {
        "colab": {
          "base_uri": "https://localhost:8080/"
        },
        "id": "QmKS2_cdNsas",
        "outputId": "649ce1f9-dc70-4dc6-fcf0-79152d78d0ca"
      },
      "source": [
        "a = 19\n",
        "b = 15\n",
        "if b < a:\n",
        "  print(\"b is less than a\")"
      ],
      "execution_count": 6,
      "outputs": [
        {
          "output_type": "stream",
          "name": "stdout",
          "text": [
            "b is less than a\n"
          ]
        }
      ]
    },
    {
      "cell_type": "markdown",
      "metadata": {
        "id": "lP6cUklkOhk1"
      },
      "source": [
        "#Elif"
      ]
    },
    {
      "cell_type": "code",
      "metadata": {
        "colab": {
          "base_uri": "https://localhost:8080/"
        },
        "id": "gdYR2a_POlRt",
        "outputId": "e9d090c0-ac41-42b9-dc06-addb8be5aaf6"
      },
      "source": [
        "a = 66\n",
        "b = 69\n",
        "if b > a:\n",
        "  print(\"b is greater than a\")\n",
        "elif a == b:\n",
        "  print(\"a and b are equal\")"
      ],
      "execution_count": 8,
      "outputs": [
        {
          "output_type": "stream",
          "name": "stdout",
          "text": [
            "b is greater than a\n"
          ]
        }
      ]
    },
    {
      "cell_type": "markdown",
      "metadata": {
        "id": "Hq0kEh8UO1VM"
      },
      "source": [
        "#Else"
      ]
    },
    {
      "cell_type": "code",
      "metadata": {
        "colab": {
          "base_uri": "https://localhost:8080/"
        },
        "id": "i5ZtRztIO4Uc",
        "outputId": "b4b08ed4-73c5-48fe-987d-dee5b85d6026"
      },
      "source": [
        "a = 70\n",
        "b = 38\n",
        "if b > a:\n",
        "  print(\"b is greater than a\")\n",
        "elif a == b:\n",
        "  print(\"a and b are equal\")\n",
        "else:\n",
        "  print(\"a is greater than b\")"
      ],
      "execution_count": 9,
      "outputs": [
        {
          "output_type": "stream",
          "name": "stdout",
          "text": [
            "a is greater than b\n"
          ]
        }
      ]
    },
    {
      "cell_type": "code",
      "metadata": {
        "colab": {
          "base_uri": "https://localhost:8080/"
        },
        "id": "asHXZAT0PKzk",
        "outputId": "0ddb6d08-dc40-4375-93ea-26e476c24dcc"
      },
      "source": [
        "a = 70\n",
        "b = 38\n",
        "if b > a:\n",
        "  print(\"b is greater than a\")\n",
        "else:\n",
        "  print(\"b is not greater than a\")"
      ],
      "execution_count": 10,
      "outputs": [
        {
          "output_type": "stream",
          "name": "stdout",
          "text": [
            "b is not greater than a\n"
          ]
        }
      ]
    },
    {
      "cell_type": "markdown",
      "metadata": {
        "id": "LKAK08sXRj3D"
      },
      "source": [
        "#leap year"
      ]
    },
    {
      "cell_type": "code",
      "metadata": {
        "colab": {
          "base_uri": "https://localhost:8080/"
        },
        "id": "MK3gCrzMRlyU",
        "outputId": "b8cb0d9a-ad8a-4964-88c9-11cd8388411b"
      },
      "source": [
        "year= eval(input(\"Please input the year\"))\n",
        "\n",
        "if ((year%400==0) or (year%4==0 and year%100!=0)):\n",
        "  print(\"{0} is a leap year\".format(year))\n",
        "else:\n",
        "  print(\"{0} is not a leap year\".format(year))"
      ],
      "execution_count": 27,
      "outputs": [
        {
          "output_type": "stream",
          "name": "stdout",
          "text": [
            "Please input the year2030\n",
            "2030 is not a leap year\n"
          ]
        }
      ]
    }
  ]
}