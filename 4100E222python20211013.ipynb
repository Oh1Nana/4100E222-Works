{
  "nbformat": 4,
  "nbformat_minor": 0,
  "metadata": {
    "colab": {
      "name": "python20211013.ipynb",
      "provenance": [],
      "authorship_tag": "ABX9TyMCwslZoBq42PRFsljc54hD",
      "include_colab_link": true
    },
    "kernelspec": {
      "name": "python3",
      "display_name": "Python 3"
    },
    "language_info": {
      "name": "python"
    }
  },
  "cells": [
    {
      "cell_type": "markdown",
      "metadata": {
        "id": "view-in-github",
        "colab_type": "text"
      },
      "source": [
        "<a href=\"https://colab.research.google.com/github/Oh1Nana/4100E222-Works/blob/Montenegro-Works/4100E222python20211013.ipynb\" target=\"_parent\"><img src=\"https://colab.research.google.com/assets/colab-badge.svg\" alt=\"Open In Colab\"/></a>"
      ]
    },
    {
      "cell_type": "markdown",
      "metadata": {
        "id": "UnKEVz0HMT7D"
      },
      "source": [
        "#Python Condition and If Statements\n",
        "20211013\n"
      ]
    },
    {
      "cell_type": "code",
      "metadata": {
        "colab": {
          "base_uri": "https://localhost:8080/"
        },
        "id": "7a679WXbMcDt",
        "outputId": "4fcc16bc-3ecd-43c8-a49f-cdc65220fd73"
      },
      "source": [
        "a = 47\n",
        "b = 52\n",
        "if b > a:\n",
        "  print(\"b is greater than a\")"
      ],
      "execution_count": 2,
      "outputs": [
        {
          "output_type": "stream",
          "name": "stdout",
          "text": [
            "b is greater than a\n"
          ]
        }
      ]
    },
    {
      "cell_type": "markdown",
      "metadata": {
        "id": "RDYTF6WZNqgt"
      },
      "source": [
        "#Indentation"
      ]
    },
    {
      "cell_type": "code",
      "metadata": {
        "colab": {
          "base_uri": "https://localhost:8080/"
        },
        "id": "QmKS2_cdNsas",
        "outputId": "649ce1f9-dc70-4dc6-fcf0-79152d78d0ca"
      },
      "source": [
        "a = 19\n",
        "b = 15\n",
        "if b < a:\n",
        "  print(\"b is less than a\")"
      ],
      "execution_count": 6,
      "outputs": [
        {
          "output_type": "stream",
          "name": "stdout",
          "text": [
            "b is less than a\n"
          ]
        }
      ]
    },
    {
      "cell_type": "markdown",
      "metadata": {
        "id": "lP6cUklkOhk1"
      },
      "source": [
        "#Elif"
      ]
    },
    {
      "cell_type": "code",
      "metadata": {
        "colab": {
          "base_uri": "https://localhost:8080/"
        },
        "id": "gdYR2a_POlRt",
        "outputId": "e9d090c0-ac41-42b9-dc06-addb8be5aaf6"
      },
      "source": [
        "a = 66\n",
        "b = 69\n",
        "if b > a:\n",
        "  print(\"b is greater than a\")\n",
        "elif a == b:\n",
        "  print(\"a and b are equal\")"
      ],
      "execution_count": 8,
      "outputs": [
        {
          "output_type": "stream",
          "name": "stdout",
          "text": [
            "b is greater than a\n"
          ]
        }
      ]
    },
    {
      "cell_type": "markdown",
      "metadata": {
        "id": "Hq0kEh8UO1VM"
      },
      "source": [
        "#Else"
      ]
    },
    {
      "cell_type": "code",
      "metadata": {
        "colab": {
          "base_uri": "https://localhost:8080/"
        },
        "id": "i5ZtRztIO4Uc",
        "outputId": "b4b08ed4-73c5-48fe-987d-dee5b85d6026"
      },
      "source": [
        "a = 70\n",
        "b = 38\n",
        "if b > a:\n",
        "  print(\"b is greater than a\")\n",
        "elif a == b:\n",
        "  print(\"a and b are equal\")\n",
        "else:\n",
        "  print(\"a is greater than b\")"
      ],
      "execution_count": 9,
      "outputs": [
        {
          "output_type": "stream",
          "name": "stdout",
          "text": [
            "a is greater than b\n"
          ]
        }
      ]
    },
    {
      "cell_type": "code",
      "metadata": {
        "colab": {
          "base_uri": "https://localhost:8080/"
        },
        "id": "asHXZAT0PKzk",
        "outputId": "0ddb6d08-dc40-4375-93ea-26e476c24dcc"
      },
      "source": [
        "a = 70\n",
        "b = 38\n",
        "if b > a:\n",
        "  print(\"b is greater than a\")\n",
        "else:\n",
        "  print(\"b is not greater than a\")"
      ],
      "execution_count": 10,
      "outputs": [
        {
          "output_type": "stream",
          "name": "stdout",
          "text": [
            "b is not greater than a\n"
          ]
        }
      ]
    },
    {
      "cell_type": "markdown",
      "metadata": {
        "id": "LKAK08sXRj3D"
      },
      "source": [
        "#leap year"
      ]
    },
    {
      "cell_type": "code",
      "metadata": {
        "colab": {
          "base_uri": "https://localhost:8080/"
        },
        "id": "MK3gCrzMRlyU",
        "outputId": "b8cb0d9a-ad8a-4964-88c9-11cd8388411b"
      },
      "source": [
        "year= eval(input(\"Please input the year\"))\n",
        "\n",
        "if ((year%400==0) or (year%4==0 and year%100!=0)):\n",
        "  print(\"{0} is a leap year\".format(year))\n",
        "else:\n",
        "  print(\"{0} is not a leap year\".format(year))"
      ],
      "execution_count": 27,
      "outputs": [
        {
          "output_type": "stream",
          "name": "stdout",
          "text": [
            "Please input the year2030\n",
            "2030 is not a leap year\n"
          ]
        }
      ]
    },
    {
      "cell_type": "markdown",
      "metadata": {
        "id": "aGS9TlC8XNIJ"
      },
      "source": [
        "#For loop"
      ]
    },
    {
      "cell_type": "code",
      "metadata": {
        "colab": {
          "base_uri": "https://localhost:8080/"
        },
        "id": "bkbnmw5HXOo4",
        "outputId": "db3711d7-7443-4ea0-d681-4ddaba439cbb"
      },
      "source": [
        "Disney = [\"Belle\", \"Aurora\", \"Ariel\"]\n",
        "for x in Disney:\n",
        "  print(x)"
      ],
      "execution_count": 32,
      "outputs": [
        {
          "output_type": "stream",
          "name": "stdout",
          "text": [
            "Belle\n",
            "Aurora\n",
            "Ariel\n"
          ]
        }
      ]
    },
    {
      "cell_type": "code",
      "metadata": {
        "colab": {
          "base_uri": "https://localhost:8080/"
        },
        "id": "1A5CtVWLXkpJ",
        "outputId": "a46b4d61-07d6-460b-ad44-ae1332d40c3e"
      },
      "source": [
        "for x in \"Aurora\":\n",
        "  print(x)"
      ],
      "execution_count": 34,
      "outputs": [
        {
          "output_type": "stream",
          "name": "stdout",
          "text": [
            "A\n",
            "u\n",
            "r\n",
            "o\n",
            "r\n",
            "a\n"
          ]
        }
      ]
    },
    {
      "cell_type": "code",
      "metadata": {
        "colab": {
          "base_uri": "https://localhost:8080/"
        },
        "id": "mq5fMx8IXqz4",
        "outputId": "5c738a47-c314-4286-ec91-703d290c9932"
      },
      "source": [
        "for x in range(15):\n",
        "  print(x)"
      ],
      "execution_count": 35,
      "outputs": [
        {
          "output_type": "stream",
          "name": "stdout",
          "text": [
            "0\n",
            "1\n",
            "2\n",
            "3\n",
            "4\n",
            "5\n",
            "6\n",
            "7\n",
            "8\n",
            "9\n",
            "10\n",
            "11\n",
            "12\n",
            "13\n",
            "14\n"
          ]
        }
      ]
    },
    {
      "cell_type": "code",
      "metadata": {
        "colab": {
          "base_uri": "https://localhost:8080/"
        },
        "id": "_f-UZTzEXyp4",
        "outputId": "927e99a7-2299-4136-b31b-b045f4795016"
      },
      "source": [
        "disney = [\"Belle\", \"Aurora\", \"Ariel\"]\n",
        "for x in disney:\n",
        "  print(x)\n",
        "  if x == \"Aurora\":\n",
        "    break"
      ],
      "execution_count": 36,
      "outputs": [
        {
          "output_type": "stream",
          "name": "stdout",
          "text": [
            "Belle\n",
            "Aurora\n"
          ]
        }
      ]
    },
    {
      "cell_type": "code",
      "metadata": {
        "colab": {
          "base_uri": "https://localhost:8080/"
        },
        "id": "46ivVCG8YIew",
        "outputId": "a1bfce5c-60cb-43b6-979c-b2eaeb7f9302"
      },
      "source": [
        "for x in range(8):\n",
        "  print(x)\n",
        "  if x == 4:\n",
        "    break"
      ],
      "execution_count": 38,
      "outputs": [
        {
          "output_type": "stream",
          "name": "stdout",
          "text": [
            "0\n",
            "1\n",
            "2\n",
            "3\n",
            "4\n"
          ]
        }
      ]
    },
    {
      "cell_type": "code",
      "metadata": {
        "colab": {
          "base_uri": "https://localhost:8080/"
        },
        "id": "DDsUWVRbZI8K",
        "outputId": "23d9c4bd-585d-473e-e541-70936e5a34e6"
      },
      "source": [
        "for x in range(10):\n",
        "  if x == 6:\n",
        "    continue\n",
        "    \n",
        "  print(x)"
      ],
      "execution_count": 42,
      "outputs": [
        {
          "output_type": "stream",
          "name": "stdout",
          "text": [
            "0\n",
            "1\n",
            "2\n",
            "3\n",
            "4\n",
            "5\n",
            "7\n",
            "8\n",
            "9\n"
          ]
        }
      ]
    },
    {
      "cell_type": "code",
      "metadata": {
        "colab": {
          "base_uri": "https://localhost:8080/"
        },
        "id": "vEMEbQUVZlh3",
        "outputId": "ba22025c-1a42-4d4f-d7e6-e3fbead208eb"
      },
      "source": [
        "for x in range(11):\n",
        "  if x%5 == 0:\n",
        "   continue\n",
        "  \n",
        "  print(x)"
      ],
      "execution_count": 46,
      "outputs": [
        {
          "output_type": "stream",
          "name": "stdout",
          "text": [
            "1\n",
            "2\n",
            "3\n",
            "4\n",
            "6\n",
            "7\n",
            "8\n",
            "9\n"
          ]
        }
      ]
    },
    {
      "cell_type": "code",
      "metadata": {
        "colab": {
          "base_uri": "https://localhost:8080/"
        },
        "id": "8SOA1e3WcfMo",
        "outputId": "ced5e41f-a6fc-405c-cbf4-50198b685db4"
      },
      "source": [
        "i = 3\n",
        "while i < 15:\n",
        "  print(i)\n",
        "  i += 2"
      ],
      "execution_count": 51,
      "outputs": [
        {
          "output_type": "stream",
          "name": "stdout",
          "text": [
            "3\n",
            "5\n",
            "7\n",
            "9\n",
            "11\n",
            "13\n"
          ]
        }
      ]
    },
    {
      "cell_type": "code",
      "metadata": {
        "colab": {
          "base_uri": "https://localhost:8080/"
        },
        "id": "NdAKapfLdn9-",
        "outputId": "caa88025-ffff-4a18-fbe9-22888c800dc5"
      },
      "source": [
        "i = 3\n",
        "while i < 15:\n",
        "  print(i)\n",
        "  if i == 2:\n",
        "    break\n",
        "  i += 2"
      ],
      "execution_count": 58,
      "outputs": [
        {
          "output_type": "stream",
          "name": "stdout",
          "text": [
            "3\n",
            "5\n",
            "7\n",
            "9\n",
            "11\n",
            "13\n"
          ]
        }
      ]
    }
  ]
}