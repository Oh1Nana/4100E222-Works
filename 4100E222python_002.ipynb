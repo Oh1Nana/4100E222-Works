{
  "nbformat": 4,
  "nbformat_minor": 0,
  "metadata": {
    "colab": {
      "name": "python 2.ipynb",
      "provenance": [],
      "collapsed_sections": [],
      "authorship_tag": "ABX9TyMkx/1TYihIXPFL3A5eH1aE",
      "include_colab_link": true
    },
    "kernelspec": {
      "name": "python3",
      "display_name": "Python 3"
    },
    "language_info": {
      "name": "python"
    }
  },
  "cells": [
    {
      "cell_type": "markdown",
      "metadata": {
        "id": "view-in-github",
        "colab_type": "text"
      },
      "source": [
        "<a href=\"https://colab.research.google.com/github/Oh1Nana/4100E222-Works/blob/Montenegro-Works/4100E222python_002.ipynb\" target=\"_parent\"><img src=\"https://colab.research.google.com/assets/colab-badge.svg\" alt=\"Open In Colab\"/></a>"
      ]
    },
    {
      "cell_type": "markdown",
      "metadata": {
        "id": "sQj-pQRy-mhL"
      },
      "source": [
        "#Numerics Data Type"
      ]
    },
    {
      "cell_type": "markdown",
      "metadata": {
        "id": "-WoEiqGhQ4MG"
      },
      "source": [
        "Date: 20211011\n",
        "\n",
        "Name: Annette Claire S. Montenegro"
      ]
    },
    {
      "cell_type": "markdown",
      "metadata": {
        "id": "YevA4oTcQr0W"
      },
      "source": [
        "#Arithmetic Operators"
      ]
    },
    {
      "cell_type": "code",
      "metadata": {
        "colab": {
          "base_uri": "https://localhost:8080/"
        },
        "id": "R2bFk10x-7XG",
        "outputId": "d502233d-eb4f-460e-ede8-d50074eb7a40"
      },
      "source": [
        "a = 19 / 4\n",
        "a"
      ],
      "execution_count": 3,
      "outputs": [
        {
          "output_type": "execute_result",
          "data": {
            "text/plain": [
              "4.75"
            ]
          },
          "metadata": {},
          "execution_count": 3
        }
      ]
    },
    {
      "cell_type": "code",
      "metadata": {
        "colab": {
          "base_uri": "https://localhost:8080/"
        },
        "id": "Rpsw-oLn_DF3",
        "outputId": "aab467a6-f177-4df3-b776-5ff57cc56f99"
      },
      "source": [
        "b = 19 // 4\n",
        "b"
      ],
      "execution_count": 5,
      "outputs": [
        {
          "output_type": "execute_result",
          "data": {
            "text/plain": [
              "4"
            ]
          },
          "metadata": {},
          "execution_count": 5
        }
      ]
    },
    {
      "cell_type": "code",
      "metadata": {
        "colab": {
          "base_uri": "https://localhost:8080/"
        },
        "id": "2FOS4fia_P1x",
        "outputId": "b7f13922-345c-4179-98ac-2662904187a3"
      },
      "source": [
        "c = 19 % 4\n",
        "c"
      ],
      "execution_count": 7,
      "outputs": [
        {
          "output_type": "execute_result",
          "data": {
            "text/plain": [
              "3"
            ]
          },
          "metadata": {},
          "execution_count": 7
        }
      ]
    },
    {
      "cell_type": "markdown",
      "metadata": {
        "id": "YFQVdsmrAMWw"
      },
      "source": [
        "#Logical operators"
      ]
    },
    {
      "cell_type": "code",
      "metadata": {
        "colab": {
          "base_uri": "https://localhost:8080/"
        },
        "id": "tgBxn9wLAQAg",
        "outputId": "925f10f8-a454-4432-d999-5e3873f6f143"
      },
      "source": [
        "x = 6\n",
        "print(x > 5 and x < 8)"
      ],
      "execution_count": 12,
      "outputs": [
        {
          "output_type": "stream",
          "name": "stdout",
          "text": [
            "True\n"
          ]
        }
      ]
    },
    {
      "cell_type": "code",
      "metadata": {
        "colab": {
          "base_uri": "https://localhost:8080/"
        },
        "id": "fPPbyKuJAh16",
        "outputId": "1d3333c5-5ae8-4984-ba54-aee230f15637"
      },
      "source": [
        "x = 6\n",
        "print(x > 5 and x > 8)"
      ],
      "execution_count": 13,
      "outputs": [
        {
          "output_type": "stream",
          "name": "stdout",
          "text": [
            "False\n"
          ]
        }
      ]
    },
    {
      "cell_type": "code",
      "metadata": {
        "colab": {
          "base_uri": "https://localhost:8080/"
        },
        "id": "QZNH6qFOBLSz",
        "outputId": "b096254c-d7d1-48bd-d704-a263f3d947fc"
      },
      "source": [
        "x = 6\n",
        "print(x > 5 or x > 8)"
      ],
      "execution_count": 14,
      "outputs": [
        {
          "output_type": "stream",
          "name": "stdout",
          "text": [
            "True\n"
          ]
        }
      ]
    },
    {
      "cell_type": "markdown",
      "metadata": {
        "id": "dlzddQ9hBR2g"
      },
      "source": [
        "#Built-in functions"
      ]
    },
    {
      "cell_type": "code",
      "metadata": {
        "colab": {
          "base_uri": "https://localhost:8080/",
          "height": 35
        },
        "id": "b23Itb2_BV8S",
        "outputId": "98af6cf0-ea59-4072-d6d3-2472345a11cf"
      },
      "source": [
        "oct(10)"
      ],
      "execution_count": 16,
      "outputs": [
        {
          "output_type": "execute_result",
          "data": {
            "application/vnd.google.colaboratory.intrinsic+json": {
              "type": "string"
            },
            "text/plain": [
              "'0o12'"
            ]
          },
          "metadata": {},
          "execution_count": 16
        }
      ]
    },
    {
      "cell_type": "code",
      "metadata": {
        "colab": {
          "base_uri": "https://localhost:8080/",
          "height": 35
        },
        "id": "i00BxucTB2Ui",
        "outputId": "17478772-3bee-427c-ce29-819cf6701a6d"
      },
      "source": [
        "hex(43)"
      ],
      "execution_count": 19,
      "outputs": [
        {
          "output_type": "execute_result",
          "data": {
            "application/vnd.google.colaboratory.intrinsic+json": {
              "type": "string"
            },
            "text/plain": [
              "'0x2b'"
            ]
          },
          "metadata": {},
          "execution_count": 19
        }
      ]
    },
    {
      "cell_type": "markdown",
      "metadata": {
        "id": "xvS4pfH0Dexo"
      },
      "source": [
        "#string data type"
      ]
    },
    {
      "cell_type": "code",
      "metadata": {
        "colab": {
          "base_uri": "https://localhost:8080/",
          "height": 35
        },
        "id": "Dq_CyeEbEY9D",
        "outputId": "5ff5c279-d504-41f2-c10d-a8827f403526"
      },
      "source": [
        "str3 = 'You are \"precious\"'\n",
        "str3"
      ],
      "execution_count": 21,
      "outputs": [
        {
          "output_type": "execute_result",
          "data": {
            "application/vnd.google.colaboratory.intrinsic+json": {
              "type": "string"
            },
            "text/plain": [
              "'You are \"precious\"'"
            ]
          },
          "metadata": {},
          "execution_count": 21
        }
      ]
    },
    {
      "cell_type": "code",
      "metadata": {
        "colab": {
          "base_uri": "https://localhost:8080/"
        },
        "id": "T9vklinzFL6a",
        "outputId": "6ca083c6-ef27-4747-eacf-8caedb28599f"
      },
      "source": [
        "var1 = 'Hello Universe!'\n",
        "\n",
        "print(\"var1[3]: \", var1[3])"
      ],
      "execution_count": 32,
      "outputs": [
        {
          "output_type": "stream",
          "name": "stdout",
          "text": [
            "var1[3]:  l\n"
          ]
        }
      ]
    },
    {
      "cell_type": "code",
      "metadata": {
        "colab": {
          "base_uri": "https://localhost:8080/"
        },
        "id": "JH1hgnt7GDkF",
        "outputId": "c36e57af-a3a9-4c99-de72-973bdc847bda"
      },
      "source": [
        "b = \"Hello, Galaxy!\"\n",
        "print(b[:14])"
      ],
      "execution_count": 35,
      "outputs": [
        {
          "output_type": "stream",
          "name": "stdout",
          "text": [
            "Hello, Galaxy!\n"
          ]
        }
      ]
    },
    {
      "cell_type": "code",
      "metadata": {
        "colab": {
          "base_uri": "https://localhost:8080/"
        },
        "id": "saS1enEVHaoj",
        "outputId": "64b1f112-98b1-4e47-907b-96f9b4a26a8d"
      },
      "source": [
        "txt = \"yow, and welcome to my space.\"\n",
        "\n",
        "x = txt.capitalize()\n",
        "\n",
        "print (x)"
      ],
      "execution_count": 43,
      "outputs": [
        {
          "output_type": "stream",
          "name": "stdout",
          "text": [
            "Yow, and welcome to my space.\n"
          ]
        }
      ]
    },
    {
      "cell_type": "code",
      "metadata": {
        "colab": {
          "base_uri": "https://localhost:8080/"
        },
        "id": "3LvQlnmVHeko",
        "outputId": "35ba6e85-b732-4d31-a214-090d2c4818fb"
      },
      "source": [
        "myMumu = (\"Mama\", \"Mimi\", \"Momo\")\n",
        "\n",
        "x = \"#\".join(myMumu)\n",
        "\n",
        "print(x)"
      ],
      "execution_count": 45,
      "outputs": [
        {
          "output_type": "stream",
          "name": "stdout",
          "text": [
            "Mama#Mimi#Momo\n"
          ]
        }
      ]
    },
    {
      "cell_type": "code",
      "metadata": {
        "colab": {
          "base_uri": "https://localhost:8080/"
        },
        "id": "GT_dOuNwHuVI",
        "outputId": "2fe3bc3b-dfbb-4d0c-a6f8-1dabf890ca06"
      },
      "source": [
        "txt = \"Avocado\"\n",
        "\n",
        "x = txt.ljust(8)\n",
        "\n",
        "print(x, \"is the fruit I hate.\")"
      ],
      "execution_count": 40,
      "outputs": [
        {
          "output_type": "stream",
          "name": "stdout",
          "text": [
            "Avocado  is the fruit I hate.\n"
          ]
        }
      ]
    },
    {
      "cell_type": "code",
      "metadata": {
        "colab": {
          "base_uri": "https://localhost:8080/"
        },
        "id": "GZpJbA8VINjo",
        "outputId": "6f1a8fff-6424-4977-9f9e-56377f4f3774"
      },
      "source": [
        "txt = \"     avocado     \"\n",
        "\n",
        "x = txt.lstrip()\n",
        "\n",
        "print(\"of all fruits\", x, \"is the one I dislike\")"
      ],
      "execution_count": 41,
      "outputs": [
        {
          "output_type": "stream",
          "name": "stdout",
          "text": [
            "of all fruits avocado      is the one I dislike\n"
          ]
        }
      ]
    },
    {
      "cell_type": "markdown",
      "metadata": {
        "id": "LyntkVD4LhvK"
      },
      "source": [
        "#list data type"
      ]
    },
    {
      "cell_type": "code",
      "metadata": {
        "colab": {
          "base_uri": "https://localhost:8080/"
        },
        "id": "djMsl79NLb6Y",
        "outputId": "4373292a-cecf-492e-9394-81b2f8fac060"
      },
      "source": [
        "list1 = [20, 55, 9, 1, 88, 18]\n",
        "list1[:3]"
      ],
      "execution_count": 49,
      "outputs": [
        {
          "output_type": "execute_result",
          "data": {
            "text/plain": [
              "[20, 55, 9]"
            ]
          },
          "metadata": {},
          "execution_count": 49
        }
      ]
    },
    {
      "cell_type": "code",
      "metadata": {
        "colab": {
          "base_uri": "https://localhost:8080/"
        },
        "id": "St_1pp1mNEuC",
        "outputId": "c6e8b530-7d94-4cc1-d834-c1cde3cec9a6"
      },
      "source": [
        "list1 = [20, 55, 9, 1, 88, 18]\n",
        "max(list1)"
      ],
      "execution_count": 50,
      "outputs": [
        {
          "output_type": "execute_result",
          "data": {
            "text/plain": [
              "88"
            ]
          },
          "metadata": {},
          "execution_count": 50
        }
      ]
    },
    {
      "cell_type": "markdown",
      "metadata": {
        "id": "3eB5sCLMNnkY"
      },
      "source": [
        "#Dict Data"
      ]
    },
    {
      "cell_type": "code",
      "metadata": {
        "colab": {
          "base_uri": "https://localhost:8080/"
        },
        "id": "aiSJXH6qNp4i",
        "outputId": "643a3050-1253-4a83-f870-6eb4a2c8044a"
      },
      "source": [
        "dict = {'Name': 'OhNana', 'Age': 19, 'Class': 'First'}\n",
        "print (\"dict['Name']: \", dict['Name'])"
      ],
      "execution_count": 52,
      "outputs": [
        {
          "output_type": "stream",
          "name": "stdout",
          "text": [
            "dict['Name']:  OhNana\n"
          ]
        }
      ]
    },
    {
      "cell_type": "code",
      "metadata": {
        "colab": {
          "base_uri": "https://localhost:8080/"
        },
        "id": "olHknumaStvt",
        "outputId": "70ee0450-f3e4-48bd-b323-a0a805006586"
      },
      "source": [
        "print (\"dict ['Class']: \", dict ['Class'])"
      ],
      "execution_count": 53,
      "outputs": [
        {
          "output_type": "stream",
          "name": "stdout",
          "text": [
            "dict ['Class']:  First\n"
          ]
        }
      ]
    }
  ]
}